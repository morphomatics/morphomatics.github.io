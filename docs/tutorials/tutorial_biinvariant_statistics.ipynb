{
 "cells": [
  {
   "cell_type": "markdown",
   "metadata": {
    "collapsed": true,
    "pycharm": {
     "name": "#%% md\n"
    }
   },
   "source": [
    "# Statistics in Lie groups\n",
    "\n",
    "> **_Tip:_** Launch live version of this tutorial: [![Binder](https://mybinder.org/badge_logo.svg)](https://mybinder.org/v2/gh/morphomatics/morphomatics.github.io/HEAD?filepath=docs%2Ftutorials%2Ftutorial_biinvariant_statistics.ipynb)\n",
    "\n",
    "## Bi-invariant similarity measures\n",
    "Given two distributions of samples, it is often necessary to quantify the difference between them.\n",
    "Two popular indices that can be used for data from Euclidean spaces are the Hotelling $T^2$ statistic and Bhattacharyya\n",
    "distance. While the first quantifies differences between the means only, the latter takes also differing covariance\n",
    "structures into account.\n",
    "Remarkably, both can be generalized to data from Lie groups in a way that respects\n",
    "the group's fundamental properties: The _bi-invariant_ Hotelling $T^2$ statistic and Bhattacharyya distance are\n",
    "invariant under translations of the data from both left and right. For shape analysis\n",
    "this leads (amongst others) to an analysis that is independent of\n",
    "the choice of reference.\n",
    "For the definitions see **[Bi-invariant Two-Sample Tests in Lie Groups for Shape Analysis.](https://arxiv.org/abs/2008.12195)**\n",
    "In this paper, there is also shown how a bi-invariant two sample test for differences in mean shape can\n",
    "be constructed from these notions.\n",
    "\n",
    "## Example\n",
    "In the following, we show how to use bi-invariant similarity measures in _Morphomatics_. For this, we choose the Lie group\n",
    "$\\text{GL}^+(3)$ of 3-by-3 matrices with positive determinant. For bi-invariant statistics in $\\text{GL}^+(3)$\n",
    "we need a non-metric (i.e., non-Riemannian) structure. When using it, a geodesic $\\gamma$ passing through a matrix $A \\in \\text{GL}^+(3)$\n",
    "with tangent vector $X \\in \\mathbb{R}^{3,3}$ is given by the matrix exponential:\n",
    "\n",
    "$$\n",
    "\\gamma(t) = Ae^{tX}.\n",
    "$$\n",
    "\n",
    "Since the matrix exponential is a fundamental _group_ property of $\\text{GL}^+(3)$, this gives the desired\n",
    "connection of group and geometric properties. (This works—far more generally—in any finite-dimensional Lie group.)\n",
    "\n",
    "Thus, we can create two sample sets $E, F \\subset \\text{GL}^+(3)$ with the identity matrix $I \\in \\text{GL}^+(3)$ as mean as follows\n",
    "('groupexp' is the matrix exponential)."
   ]
  },
  {
   "cell_type": "code",
   "execution_count": 1,
   "metadata": {
    "pycharm": {
     "name": "#%%\n"
    }
   },
   "outputs": [],
   "source": [
    "import numpy as np\n",
    "\n",
    "from morphomatics.stats import BiinvariantStatistics\n",
    "from morphomatics.manifold import GLp3\n",
    "\n",
    "# initialize Lie group of 3-by-3 matrices with positive determinant\n",
    "G = GLp3()\n",
    "# initialize module for bi-invariant statistics\n",
    "bistat = BiinvariantStatistics(G)\n",
    "# identity matrix\n",
    "I = G.group.identity\n",
    "\n",
    "# sample 2 data sets around I\n",
    "E = []\n",
    "F = []\n",
    "for i in range(3):\n",
    "    for j in range(3):\n",
    "        # create tangent vector\n",
    "        e = np.zeros((1, 3, 3))\n",
    "        e[0, i, j] = 1\n",
    "        # shoot geodesic along tangent vector\n",
    "        E.append(G.group.exp(e))\n",
    "        E.append(G.group.exp(-e))\n",
    "        F.append(G.group.exp(.2 * e))\n",
    "        F.append(G.group.exp(-.2 * e))"
   ]
  },
  {
   "cell_type": "markdown",
   "metadata": {
    "pycharm": {
     "name": "#%% md\n"
    }
   },
   "source": [
    "We can run the following commands for these data sets."
   ]
  },
  {
   "cell_type": "code",
   "execution_count": 2,
   "metadata": {
    "pycharm": {
     "name": "#%%\n"
    }
   },
   "outputs": [
    {
     "name": "stdout",
     "output_type": "stream",
     "text": [
      "\n",
      "Comparing E to E\n",
      "Hotelling T² stat.: 0.0\n",
      "Bhatacharyya dist.: 0.0\n",
      "\n",
      "Comparing E to F\n",
      "Hotelling T² stat.: 0.0\n",
      "Bhatacharyya dist.: 4.2998015026234615\n",
      "\n"
     ]
    }
   ],
   "source": [
    "T_EE = bistat.hotellingT2(E, E)\n",
    "T_EF = bistat.hotellingT2(E, F)\n",
    "D_EE = bistat.bhattacharyya(E, E)\n",
    "D_EF = bistat.bhattacharyya(E, F)\n",
    "\n",
    "print(f'''\n",
    "Comparing E to E\n",
    "Hotelling T² stat.: {T_EE}\n",
    "Bhatacharyya dist.: {D_EE}\n",
    "\n",
    "Comparing E to F\n",
    "Hotelling T² stat.: {T_EF}\n",
    "Bhatacharyya dist.: {D_EF}\n",
    "''')"
   ]
  },
  {
   "cell_type": "markdown",
   "metadata": {},
   "source": [
    "As expected the difference from a data set to itself is zero for both indices.\n",
    "Furthermore, since $E$ and $F$ have mean $I$, their bi-invariant Hotelling $T^2$ statistic is still (numerically) zero.\n",
    "On the other hand, the Bhatacharyya distance between them is positive, since their covariance structures differ.\n",
    "\n",
    "We can also test the invariance under translations of both indices. For $\\text{GL}^+(3)$ left and right\n",
    "translations ('lefttrans' and 'righttrans' in _Morphomatics_) by an element $B \\in \\text{GL}^+(3)$ are simply multiplications with B from left and right,\n",
    "repectively."
   ]
  },
  {
   "cell_type": "code",
   "execution_count": 3,
   "metadata": {
    "pycharm": {
     "name": "#%%\n"
    }
   },
   "outputs": [],
   "source": [
    "# random element\n",
    "B = G.rand()\n",
    "BE = []\n",
    "BF = []\n",
    "# left translate all elements of E and F by B\n",
    "for e in E:\n",
    "    BE.append(G.group.lefttrans(e, B))\n",
    "for f in F:\n",
    "    BF.append(G.group.lefttrans(f, B))\n",
    "EB = []\n",
    "FB = []\n",
    "# right translate all elements of E and F by B\n",
    "for e in E:\n",
    "    EB.append(G.group.righttrans(e, B))\n",
    "for f in F:\n",
    "    FB.append(G.group.righttrans(f, B))"
   ]
  },
  {
   "cell_type": "markdown",
   "metadata": {},
   "source": [
    "Now, we can compute both notions on the left/right translated data sets and compare the results with the original ones."
   ]
  },
  {
   "cell_type": "code",
   "execution_count": 4,
   "metadata": {
    "pycharm": {
     "name": "#%%\n"
    }
   },
   "outputs": [
    {
     "name": "stdout",
     "output_type": "stream",
     "text": [
      "\n",
      "Difference under left-translation \n",
      "Hotelling T² stat.: 1.2806693387888818e-29\n",
      "Bhatacharyya dist.: 2.6645352591003757e-15\n",
      "\n",
      "Difference under right-translation \n",
      "Hotelling T² stat.: 9.376341172313876e-29\n",
      "Bhatacharyya dist.: 3.552713678800501e-15\n",
      "\n"
     ]
    }
   ],
   "source": [
    "T_BEBF = bistat.hotellingT2(BE, BF)\n",
    "T_EBFB = bistat.hotellingT2(EB, FB)\n",
    "D_BEBF = bistat.bhattacharyya(BE, BF)\n",
    "D_EBFB = bistat.bhattacharyya(EB, FB)\n",
    "\n",
    "print(f'''\n",
    "Difference under left-translation \n",
    "Hotelling T² stat.: {np.abs(T_BEBF - T_EF)}\n",
    "Bhatacharyya dist.: {np.abs(D_BEBF - D_EF)}\n",
    "\n",
    "Difference under right-translation \n",
    "Hotelling T² stat.: {np.abs(T_EBFB - T_EF)}\n",
    "Bhatacharyya dist.: {np.abs(D_EBFB - D_EF)}\n",
    "''')"
   ]
  },
  {
   "cell_type": "markdown",
   "metadata": {},
   "source": [
    "Because of the bi-invariance property both indices give the same values for the translated data."
   ]
  }
 ],
 "metadata": {
  "kernelspec": {
   "display_name": "Python 3 (ipykernel)",
   "language": "python",
   "name": "python3"
  },
  "language_info": {
   "codemirror_mode": {
    "name": "ipython",
    "version": 3
   },
   "file_extension": ".py",
   "mimetype": "text/x-python",
   "name": "python",
   "nbconvert_exporter": "python",
   "pygments_lexer": "ipython3",
   "version": "3.9.2"
  }
 },
 "nbformat": 4,
 "nbformat_minor": 1
}