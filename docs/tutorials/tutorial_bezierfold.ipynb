{
 "cells": [
  {
   "cell_type": "markdown",
   "source": [
    "## The Geometry of Bézier splines\n",
    "\n",
    "> **_Tip:_** Launch live version of this tutorial: [![Binder](https://mybinder.org/badge_logo.svg)](https://mybinder.org/v2/gh/morphomatics/morphomatics.github.io/HEAD?filepath=docs%2Ftutorials%2Ftutorial_bezierfol.ipynb)\n",
    "\n",
    "It happens frequently that one is interested in the statistical analysis of curves. For example, in order to analyze longitudinal data (e.g., measurements from several subjects at different points in time in a medial study) statistically, **[hierarchical models](https://en.wikipedia.org/wiki/Multilevel_model)** (see also **[this paper](https://arxiv.org/abs/2111.15371)**) are widely used. By first approximating _subject-wise_ trends (the individual level) and _subsequently_ computing the statistics of these curves (the group level), they account for the fact that intra-subject measurements are highly correlated while inter-subject measurements are not.\n",
    "\n",
    "In order to analyze Bézier splines thorugh a Riemannian manifold $M$ statistically, we need a Riemannian structure on the _space of Bézier curves_ that go through $M$. Such a structure is implemented in Morphomatics; see **[A Nonlinear Hierarchical Model for Longitudinal Data on Manifolds](https://arxiv.org/abs/2202.01180)** for the definitions. In this tutorial we show how it can be used to compute the mean of two Bézier splines in the 2-sphere $S^2$."
   ],
   "metadata": {
    "collapsed": false
   }
  },
  {
   "cell_type": "code",
   "execution_count": 1,
   "metadata": {
    "collapsed": true
   },
   "outputs": [
    {
     "name": "stdout",
     "output_type": "stream",
     "text": [
      "env: JAX_PLATFORM_NAME=cpu\n"
     ]
    }
   ],
   "source": [
    "%env JAX_PLATFORM_NAME=cpu\n",
    "import jax\n",
    "import jax.numpy as jnp\n",
    "\n",
    "from morphomatics.geom.BezierSpline import BezierSpline\n",
    "from morphomatics.manifold.Bezierfold import Bezierfold\n",
    "from morphomatics.manifold.Sphere import Sphere"
   ]
  },
  {
   "cell_type": "markdown",
   "source": [
    "We start by initializing $S^2$ and the manifold of Bézier splines (''Bézierfold'') consisting of splines in $S^2$ with two quadratic segments; we also initialize the Riemannian structure on the Bézierfold."
   ],
   "metadata": {
    "collapsed": false
   }
  },
  {
   "cell_type": "code",
   "execution_count": 2,
   "outputs": [],
   "source": [
    "M = Sphere()\n",
    "\n",
    "B = Bezierfold(M, 2, 2)\n",
    "B.initFunctionalBasedStructure()"
   ],
   "metadata": {
    "collapsed": false
   }
  },
  {
   "cell_type": "markdown",
   "source": [
    "The following lines create two splines as data."
   ],
   "metadata": {
    "collapsed": false
   }
  },
  {
   "cell_type": "code",
   "execution_count": 3,
   "outputs": [],
   "source": [
    "North = jnp.array([0., 0., 1.])\n",
    "South = jnp.array([0., 0., -1.])\n",
    "\n",
    "p = jnp.array([1., 0., 0.])\n",
    "o = jnp.array([1/jnp.sqrt(2), 1/jnp.sqrt(2), 0.])\n",
    "om = M.connec.exp(o, jnp.array([0, 0, -.25]))\n",
    "op = M.connec.exp(o, jnp.array([0, 0, .25]))\n",
    "q = jnp.array([0, 1, 0.])\n",
    "\n",
    "B1 = BezierSpline(M, [jnp.stack((p, om, o)), jnp.stack((o, op, q))])\n",
    "\n",
    "z = M.connec.geopoint(o, North, .5)\n",
    "\n",
    "p1 = jnp.array([1., 0., 0.])\n",
    "o1 = M.connec.geopoint(p, z, .5)\n",
    "om1 = M.connec.geopoint(p, z, .4)\n",
    "op1 = M.connec.geopoint(p, z, .6)\n",
    "q1 = z\n",
    "B2 = BezierSpline(M, [jnp.stack((p1, om1, o1)), jnp.stack((o1, op1, q1))])"
   ],
   "metadata": {
    "collapsed": false
   }
  },
  {
   "cell_type": "markdown",
   "source": [
    "Now, we can compute the mean of the two splines and plot the results. Note that the solution is computed iteratively. Therefore, the parameters _n_, _delta_, and _nsteps_ can be used to balance speed and accuracy: The larger _n_ and _nsteps_ and the smaller _delta_, the more accurate (but the slower) the computation will be. Finally, we visualize the two splines and their mean."
   ],
   "metadata": {
    "collapsed": false
   }
  },
  {
   "cell_type": "code",
   "execution_count": null,
   "outputs": [
    {
     "name": "stdout",
     "output_type": "stream",
     "text": [
      "Optimizing...\n",
      "Iteration    Cost                       Gradient norm     \n",
      "---------    -----------------------    --------------    \n"
     ]
    }
   ],
   "source": [
    "#mean = B.metric.mean([B1, B2], n=3, delta=1e-5, nsteps=5)[0]\n",
    "mean = B.metric.mean([B1, B2], n=3, delta=1e-5, nsteps=1)[0]\n",
    "\n",
    "import numpy as np\n",
    "import pyvista as pv\n",
    "\n",
    "# Plotting\n",
    "\n",
    "# create a tubular surface interpolating points\n",
    "def tube_mesh(pts, interval=(0,2)):\n",
    "    n = len(pts)-1\n",
    "    curve = pv.PolyData(pts)\n",
    "    curve[\"time\"] = np.linspace(*interval, curve.n_points)\n",
    "    curve.lines = np.c_[np.full(n,2), np.arange(n), np.arange(n)+1]\n",
    "    curve.tube(radius=0.01, inplace=True)\n",
    "    return curve\n",
    "\n",
    "pl = pv.Plotter(notebook=True)\n",
    "tube1 = tube_mesh(np.asarray(jax.vmap(B1.eval)(jnp.linspace(0., 2., num=100))))\n",
    "tube2 = tube_mesh(np.asarray(jax.vmap(B2.eval)(jnp.linspace(0., 2., num=100))))\n",
    "\n",
    "pl.add_mesh(tube_mesh(np.asarray(jax.vmap(mean.eval)(jnp.linspace(0., 2., num=100)))), color='red')\n",
    "pl.add_mesh(tube1)\n",
    "pl.add_mesh(tube2)\n",
    "\n",
    "pl.add_mesh(pv.Sphere(1))\n",
    "\n",
    "pl.show_axes()\n",
    "pl.show(jupyter_backend='static')"
   ],
   "metadata": {
    "collapsed": false,
    "pycharm": {
     "is_executing": true
    }
   }
  },
  {
   "cell_type": "code",
   "execution_count": null,
   "outputs": [],
   "source": [],
   "metadata": {
    "collapsed": false,
    "pycharm": {
     "is_executing": true
    }
   }
  }
 ],
 "metadata": {
  "kernelspec": {
   "display_name": "Python 3",
   "language": "python",
   "name": "python3"
  },
  "language_info": {
   "codemirror_mode": {
    "name": "ipython",
    "version": 2
   },
   "file_extension": ".py",
   "mimetype": "text/x-python",
   "name": "python",
   "nbconvert_exporter": "python",
   "pygments_lexer": "ipython2",
   "version": "2.7.6"
  }
 },
 "nbformat": 4,
 "nbformat_minor": 0
}
